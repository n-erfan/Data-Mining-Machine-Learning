{
  "nbformat": 4,
  "nbformat_minor": 0,
  "metadata": {
    "colab": {
      "provenance": [],
      "authorship_tag": "ABX9TyNO4F1AIPseTUDq/OFSP4SL",
      "include_colab_link": true
    },
    "kernelspec": {
      "name": "python3",
      "display_name": "Python 3"
    },
    "language_info": {
      "name": "python"
    }
  },
  "cells": [
    {
      "cell_type": "markdown",
      "metadata": {
        "id": "view-in-github",
        "colab_type": "text"
      },
      "source": [
        "<a href=\"https://colab.research.google.com/github/n-erfan/Data-Mining-Machine-Learning/blob/main/MiniProject5_SVM.ipynb\" target=\"_parent\"><img src=\"https://colab.research.google.com/assets/colab-badge.svg\" alt=\"Open In Colab\"/></a>"
      ]
    },
    {
      "cell_type": "markdown",
      "source": [
        "1. Implement a support vector machine to separate and classify the two linearly separable sets given in the data file SVM_data.mat available on Canvas.\n",
        "Find and show the classifying line. How many support vectors do you have? Mark your support vectors"
      ],
      "metadata": {
        "id": "jLhTjzI_8evh"
      }
    },
    {
      "cell_type": "code",
      "execution_count": null,
      "metadata": {
        "colab": {
          "base_uri": "https://localhost:8080/"
        },
        "id": "Woeh4dUi8TTo",
        "outputId": "e359ff53-6190-446d-bc80-5f57b602fdf1"
      },
      "outputs": [
        {
          "output_type": "stream",
          "name": "stdout",
          "text": [
            "Mounted at /content/gdrive\n"
          ]
        }
      ],
      "source": [
        "#Access to Read from my Google Drive\n",
        "from google.colab import drive\n",
        "drive.mount('/content/gdrive')"
      ]
    },
    {
      "cell_type": "code",
      "source": [
        "# Import necessary librarires\n",
        "import pandas as pd\n",
        "import numpy as np\n",
        "import math\n",
        "import matplotlib.pyplot as plt\n",
        "import scipy.linalg\n",
        "import scipy.io"
      ],
      "metadata": {
        "id": "mY352bPt8tVx"
      },
      "execution_count": null,
      "outputs": []
    },
    {
      "cell_type": "code",
      "source": [
        "mat_dic = scipy.io.loadmat('/content/gdrive/MyDrive/Dataset/Data Mining and Machine Learning/SVM_data.mat')"
      ],
      "metadata": {
        "id": "YSh0pYOa8uXM"
      },
      "execution_count": null,
      "outputs": []
    },
    {
      "cell_type": "code",
      "source": [
        "mat_dic"
      ],
      "metadata": {
        "colab": {
          "base_uri": "https://localhost:8080/"
        },
        "id": "jJHsY5Ob-fTB",
        "outputId": "08ce76ba-c7f8-4bc5-fbb9-5a66933da51d"
      },
      "execution_count": null,
      "outputs": [
        {
          "output_type": "execute_result",
          "data": {
            "text/plain": [
              "{'__header__': b'MATLAB 5.0 MAT-file, Platform: PCWIN64, Created on: Tue Apr 18 18:01:14 2017',\n",
              " '__version__': '1.0',\n",
              " '__globals__': [],\n",
              " 'x': array([[-0.85822717,  4.09406519],\n",
              "        [-0.44806372,  2.08015253],\n",
              "        [-0.61636989,  1.06270493],\n",
              "        [-2.75809225,  2.63573878],\n",
              "        [-1.55733726,  3.68202799],\n",
              "        [-1.0889021 ,  2.59363417],\n",
              "        [-3.07408562,  2.79015288],\n",
              "        [-1.79823809,  2.10525385],\n",
              "        [-1.23713678,  1.84142144],\n",
              "        [-3.2881872 ,  2.87090745],\n",
              "        [-2.95296182,  1.80524107],\n",
              "        [-1.2218255 ,  2.07547449],\n",
              "        [-2.00633107,  1.47336516],\n",
              "        [-1.47551319,  1.31451562],\n",
              "        [-0.6357282 ,  1.73161235],\n",
              "        [-1.51796067,  0.81165404],\n",
              "        [-2.78706585,  2.24857898],\n",
              "        [-1.24800073,  2.10245162],\n",
              "        [-2.16688791,  1.95899312],\n",
              "        [-2.81622811, -0.24758231],\n",
              "        [ 1.48922352, -1.27713648],\n",
              "        [ 2.24924264, -1.96050151],\n",
              "        [ 2.36919671, -0.45872123],\n",
              "        [ 2.17919662, -3.70105284],\n",
              "        [ 1.96271659, -3.03374131],\n",
              "        [ 0.39669013, -2.76370764],\n",
              "        [ 2.33937204,  0.17642596],\n",
              "        [ 1.86886519, -1.5683879 ],\n",
              "        [ 2.48518979, -2.44376518],\n",
              "        [ 2.5987507 , -1.97000413],\n",
              "        [ 1.91396911, -2.31567087],\n",
              "        [ 2.32529205, -1.0221543 ],\n",
              "        [ 1.66485677, -1.98170513],\n",
              "        [ 1.6775508 , -1.18203717],\n",
              "        [ 1.61762587, -1.2976589 ],\n",
              "        [ 1.04662907, -2.23127056],\n",
              "        [ 2.2335756 , -2.11368958],\n",
              "        [ 3.23524465, -1.87205948],\n",
              "        [ 1.4214684 , -2.7994097 ],\n",
              "        [ 1.49846263, -2.23861196]]),\n",
              " 'y': array([[-1],\n",
              "        [-1],\n",
              "        [-1],\n",
              "        [-1],\n",
              "        [-1],\n",
              "        [-1],\n",
              "        [-1],\n",
              "        [-1],\n",
              "        [-1],\n",
              "        [-1],\n",
              "        [-1],\n",
              "        [-1],\n",
              "        [-1],\n",
              "        [-1],\n",
              "        [-1],\n",
              "        [-1],\n",
              "        [-1],\n",
              "        [-1],\n",
              "        [-1],\n",
              "        [-1],\n",
              "        [ 1],\n",
              "        [ 1],\n",
              "        [ 1],\n",
              "        [ 1],\n",
              "        [ 1],\n",
              "        [ 1],\n",
              "        [ 1],\n",
              "        [ 1],\n",
              "        [ 1],\n",
              "        [ 1],\n",
              "        [ 1],\n",
              "        [ 1],\n",
              "        [ 1],\n",
              "        [ 1],\n",
              "        [ 1],\n",
              "        [ 1],\n",
              "        [ 1],\n",
              "        [ 1],\n",
              "        [ 1],\n",
              "        [ 1]], dtype=int16)}"
            ]
          },
          "metadata": {},
          "execution_count": 4
        }
      ]
    },
    {
      "cell_type": "code",
      "source": [
        "x = mat_dic['x']\n",
        "y = mat_dic['y']"
      ],
      "metadata": {
        "id": "d5yKlFjX-BGH"
      },
      "execution_count": null,
      "outputs": []
    },
    {
      "cell_type": "code",
      "source": [
        "x.shape"
      ],
      "metadata": {
        "colab": {
          "base_uri": "https://localhost:8080/"
        },
        "id": "JOEYYIsJ-WzZ",
        "outputId": "186513b5-3aa7-4e37-88a5-9aa246871e4a"
      },
      "execution_count": null,
      "outputs": [
        {
          "output_type": "execute_result",
          "data": {
            "text/plain": [
              "(40, 2)"
            ]
          },
          "metadata": {},
          "execution_count": 7
        }
      ]
    },
    {
      "cell_type": "code",
      "source": [
        "# Get the size of the data\n",
        "m, n = x.shape"
      ],
      "metadata": {
        "id": "4JdLgpnDCQwI"
      },
      "execution_count": null,
      "outputs": []
    },
    {
      "cell_type": "code",
      "source": [
        "# Plot the data\n",
        "plt.plot(x[0:m//2,0], x[0:m//2,1], 'x')\n",
        "plt.plot(x[m//2:m,0], x[m//2:m,1], 'ro')\n",
        "plt.show()"
      ],
      "metadata": {
        "colab": {
          "base_uri": "https://localhost:8080/",
          "height": 430
        },
        "id": "JoEVKNW__xnm",
        "outputId": "d7f6783c-6a6f-49bd-a9ac-f7a073b3d2b8"
      },
      "execution_count": null,
      "outputs": [
        {
          "output_type": "display_data",
          "data": {
            "text/plain": [
              "<Figure size 640x480 with 1 Axes>"
            ],
            "image/png": "[encoded data removed]"
          },
          "metadata": {}
        }
      ]
    },
    {
      "cell_type": "code",
      "source": [
        "!pip install qpsolvers"
      ],
      "metadata": {
        "colab": {
          "base_uri": "https://localhost:8080/"
        },
        "id": "fmbskya1W8z-",
        "outputId": "c35a1590-4d80-44f5-eaf2-5784f99403ac"
      },
      "execution_count": null,
      "outputs": [
        {
          "output_type": "stream",
          "name": "stdout",
          "text": [
            "Collecting qpsolvers\n",
            "  Downloading qpsolvers-4.3.2-py3-none-any.whl (79 kB)\n",
            "\u001b[?25l     \u001b[90m━━━━━━━━━━━━━━━━━━━━━━━━━━━━━━━━━━━━━━━━\u001b[0m \u001b[32m0.0/79.6 kB\u001b[0m \u001b[31m?\u001b[0m eta \u001b[36m-:--:--\u001b[0m\r\u001b[2K     \u001b[90m━━━━━━━━━━━━━━━━━━━━━━━━━━━━━━━━━━━━━━━━\u001b[0m \u001b[32m79.6/79.6 kB\u001b[0m \u001b[31m2.4 MB/s\u001b[0m eta \u001b[36m0:00:00\u001b[0m\n",
            "\u001b[?25hRequirement already satisfied: numpy>=1.15.4 in /usr/local/lib/python3.10/dist-packages (from qpsolvers) (1.25.2)\n",
            "Requirement already satisfied: scipy>=1.2.0 in /usr/local/lib/python3.10/dist-packages (from qpsolvers) (1.11.4)\n",
            "Installing collected packages: qpsolvers\n",
            "Successfully installed qpsolvers-4.3.2\n"
          ]
        }
      ]
    },
    {
      "cell_type": "code",
      "source": [
        "import qpsolvers\n",
        "from qpsolvers import solve_qp"
      ],
      "metadata": {
        "id": "lt7G28L7XDEu"
      },
      "execution_count": null,
      "outputs": []
    },
    {
      "cell_type": "code",
      "source": [
        "Q = np.zeros((m,m))"
      ],
      "metadata": {
        "id": "2HUQnNS7CcBT"
      },
      "execution_count": null,
      "outputs": []
    },
    {
      "cell_type": "code",
      "source": [
        "for i in range(m):\n",
        "  for j in range(m):\n",
        "    # Q[i,j] = y[i].reshape(1,1) * y[j].reshape(1,1) * (x[i].reshape(n,1).T @ x[j].reshape(n,1))\n",
        "    Q[i,j] = y.reshape(40,)[i] * y.reshape(40,)[j] * (x[i].T @ x[j])"
      ],
      "metadata": {
        "id": "nwOKq3gQX04k"
      },
      "execution_count": null,
      "outputs": []
    },
    {
      "cell_type": "code",
      "source": [
        "Q"
      ],
      "metadata": {
        "colab": {
          "base_uri": "https://localhost:8080/"
        },
        "id": "lekJyWxDSRaQ",
        "outputId": "a5ab402d-1284-4d8f-ff6b-063415ee4934"
      },
      "execution_count": null,
      "outputs": [
        {
          "output_type": "execute_result",
          "data": {
            "text/plain": [
              "array([[17.49792365,  8.90082053,  4.87976865, ..., 10.44090841,\n",
              "        12.6809086 , 10.45104463],\n",
              "       [ 8.90082053,  4.52779566,  2.48676134, ...,  5.34376504,\n",
              "         6.4601076 ,  5.32806108],\n",
              "       [ 4.87976865,  2.48676134,  1.50925361, ...,  3.98355422,\n",
              "         3.85109681,  3.3025912 ],\n",
              "       ...,\n",
              "       [10.44090841,  5.34376504,  3.98355422, ..., 13.97141465,\n",
              "         9.83945951,  9.03870795],\n",
              "       [12.6809086 ,  6.4601076 ,  3.85109681, ...,  9.83945951,\n",
              "         9.85726708,  8.3968093 ],\n",
              "       [10.45104463,  5.32806108,  3.3025912 , ...,  9.03870795,\n",
              "         8.3968093 ,  7.25677375]])"
            ]
          },
          "metadata": {},
          "execution_count": 14
        }
      ]
    },
    {
      "cell_type": "code",
      "source": [
        "alpha = solve_qp(P=Q, q=-np.ones(m), A=y.T, b=np.zeros(1), lb=np.zeros(m), solver=\"osqp\")"
      ],
      "metadata": {
        "id": "EzRum8qqfEJ9"
      },
      "execution_count": null,
      "outputs": []
    },
    {
      "cell_type": "code",
      "source": [
        "alpha"
      ],
      "metadata": {
        "colab": {
          "base_uri": "https://localhost:8080/"
        },
        "id": "NboTkFKKtawz",
        "outputId": "0f6f29ca-fb5c-431a-ac71-f191912cff36"
      },
      "execution_count": null,
      "outputs": [
        {
          "output_type": "execute_result",
          "data": {
            "text/plain": [
              "array([0.00031186, 0.00052117, 0.2116433 , 0.00042037, 0.00036651,\n",
              "       0.00048654, 0.00039069, 0.00054503, 0.00062903, 0.00037377,\n",
              "       0.00044501, 0.00058002, 0.00058931, 0.00070085, 0.00063681,\n",
              "       0.00073039, 0.00044172, 0.00057428, 0.00052341, 0.00032385,\n",
              "       0.00111175, 0.00069268, 0.00076847, 0.00045025, 0.00054888,\n",
              "       0.04812848, 0.15966793, 0.00086729, 0.00058531, 0.00062648,\n",
              "       0.00068672, 0.00079292, 0.00081159, 0.0010535 , 0.00104368,\n",
              "       0.0008107 , 0.00067108, 0.00052932, 0.000624  , 0.00076247])"
            ]
          },
          "metadata": {},
          "execution_count": 17
        }
      ]
    },
    {
      "cell_type": "code",
      "source": [
        "alpha_appx = alpha.round(2)\n",
        "alpha_appx"
      ],
      "metadata": {
        "colab": {
          "base_uri": "https://localhost:8080/"
        },
        "id": "AP4UFIhGvaZD",
        "outputId": "c92f38b4-8155-4054-85a4-e2201ed696fb"
      },
      "execution_count": null,
      "outputs": [
        {
          "output_type": "execute_result",
          "data": {
            "text/plain": [
              "array([0.  , 0.  , 0.21, 0.  , 0.  , 0.  , 0.  , 0.  , 0.  , 0.  , 0.  ,\n",
              "       0.  , 0.  , 0.  , 0.  , 0.  , 0.  , 0.  , 0.  , 0.  , 0.  , 0.  ,\n",
              "       0.  , 0.  , 0.  , 0.05, 0.16, 0.  , 0.  , 0.  , 0.  , 0.  , 0.  ,\n",
              "       0.  , 0.  , 0.  , 0.  , 0.  , 0.  , 0.  ])"
            ]
          },
          "metadata": {},
          "execution_count": 18
        }
      ]
    },
    {
      "cell_type": "code",
      "source": [
        "w = np.zeros((n,1))"
      ],
      "metadata": {
        "id": "w8Nn8gQezZ1P"
      },
      "execution_count": null,
      "outputs": []
    },
    {
      "cell_type": "code",
      "source": [
        "for i in range(m):\n",
        "  w += alpha[i] * y[i] * x[i].reshape((n,1))"
      ],
      "metadata": {
        "id": "BNdB-TFEzPWg"
      },
      "execution_count": null,
      "outputs": []
    },
    {
      "cell_type": "code",
      "source": [
        "w"
      ],
      "metadata": {
        "colab": {
          "base_uri": "https://localhost:8080/"
        },
        "id": "1QfdMIk241JS",
        "outputId": "267a9d2c-ed48-4a96-f20e-6e4b9dccf757"
      },
      "execution_count": null,
      "outputs": [
        {
          "output_type": "execute_result",
          "data": {
            "text/plain": [
              "array([[ 0.56561223],\n",
              "       [-0.37371242]])"
            ]
          },
          "metadata": {},
          "execution_count": 21
        }
      ]
    },
    {
      "cell_type": "code",
      "source": [
        "nz_ind = np.nonzero(alpha_appx)[0]\n",
        "nz_ind"
      ],
      "metadata": {
        "colab": {
          "base_uri": "https://localhost:8080/"
        },
        "id": "pJS2TFze6IUv",
        "outputId": "6f5ce7d8-684d-4779-e2fc-d78a746b4193"
      },
      "execution_count": null,
      "outputs": [
        {
          "output_type": "execute_result",
          "data": {
            "text/plain": [
              "array([ 2, 25, 26])"
            ]
          },
          "metadata": {},
          "execution_count": 22
        }
      ]
    },
    {
      "cell_type": "code",
      "source": [
        "b1 = y[nz_ind[0]] - w.T @ x[nz_ind[0]].reshape((n,1))\n",
        "b2 = y[nz_ind[1]] - w.T @ x[nz_ind[1]].reshape((n,1))\n",
        "b3 = y[nz_ind[2]] - w.T @ x[nz_ind[2]].reshape((n,1))"
      ],
      "metadata": {
        "id": "7CBZZS777tkS"
      },
      "execution_count": null,
      "outputs": []
    },
    {
      "cell_type": "code",
      "source": [
        "w.T @ x[nz_ind[0]].reshape((n,1)) + b1"
      ],
      "metadata": {
        "colab": {
          "base_uri": "https://localhost:8080/"
        },
        "id": "EyJLJLeC8N9s",
        "outputId": "b8288993-5a62-4c22-bba1-17b5e7960288"
      },
      "execution_count": null,
      "outputs": [
        {
          "output_type": "execute_result",
          "data": {
            "text/plain": [
              "array([[-1.]])"
            ]
          },
          "metadata": {},
          "execution_count": 24
        }
      ]
    },
    {
      "cell_type": "code",
      "source": [
        "w.T @ x[nz_ind[1]].reshape((n,1)) + b2"
      ],
      "metadata": {
        "colab": {
          "base_uri": "https://localhost:8080/"
        },
        "id": "6D5DUrZq8gMm",
        "outputId": "d198683e-8349-474a-8fae-e0f199383c44"
      },
      "execution_count": null,
      "outputs": [
        {
          "output_type": "execute_result",
          "data": {
            "text/plain": [
              "array([[1.]])"
            ]
          },
          "metadata": {},
          "execution_count": 25
        }
      ]
    },
    {
      "cell_type": "code",
      "source": [
        "w.T @ x[nz_ind[2]].reshape((n,1)) + b3"
      ],
      "metadata": {
        "colab": {
          "base_uri": "https://localhost:8080/"
        },
        "id": "YYP5C-Ct8idq",
        "outputId": "cf0afb3f-a239-4a86-f774-bc34ea534bde"
      },
      "execution_count": null,
      "outputs": [
        {
          "output_type": "execute_result",
          "data": {
            "text/plain": [
              "array([[1.]])"
            ]
          },
          "metadata": {},
          "execution_count": 26
        }
      ]
    },
    {
      "cell_type": "code",
      "source": [
        "b2"
      ],
      "metadata": {
        "colab": {
          "base_uri": "https://localhost:8080/"
        },
        "id": "cukBrj6D-fvm",
        "outputId": "bf1e217b-6f04-407a-84cb-ecb7abf24551"
      },
      "execution_count": null,
      "outputs": [
        {
          "output_type": "execute_result",
          "data": {
            "text/plain": [
              "array([[-0.25720467]])"
            ]
          },
          "metadata": {},
          "execution_count": 28
        }
      ]
    },
    {
      "cell_type": "code",
      "source": [
        "b3"
      ],
      "metadata": {
        "colab": {
          "base_uri": "https://localhost:8080/"
        },
        "id": "Un_-O55V-g45",
        "outputId": "63dfbadf-388b-4f02-e02c-c2cbeac8e310"
      },
      "execution_count": null,
      "outputs": [
        {
          "output_type": "execute_result",
          "data": {
            "text/plain": [
              "array([[-0.25724486]])"
            ]
          },
          "metadata": {},
          "execution_count": 29
        }
      ]
    },
    {
      "cell_type": "code",
      "source": [
        "b1"
      ],
      "metadata": {
        "colab": {
          "base_uri": "https://localhost:8080/"
        },
        "id": "w8iXI7i_-kua",
        "outputId": "1134059f-ec4c-4384-fd43-902f8fb5132f"
      },
      "execution_count": null,
      "outputs": [
        {
          "output_type": "execute_result",
          "data": {
            "text/plain": [
              "array([[-0.25422762]])"
            ]
          },
          "metadata": {},
          "execution_count": 30
        }
      ]
    },
    {
      "cell_type": "code",
      "source": [
        "# b0 = (b2+b1)/2\n",
        "b0 = (b3+b2+b1)/3\n",
        "b0"
      ],
      "metadata": {
        "colab": {
          "base_uri": "https://localhost:8080/"
        },
        "id": "HzEVQalv-yCA",
        "outputId": "518a394a-80aa-4d5d-f92d-454eb05bd7f8"
      },
      "execution_count": null,
      "outputs": [
        {
          "output_type": "execute_result",
          "data": {
            "text/plain": [
              "array([[-0.25622572]])"
            ]
          },
          "metadata": {},
          "execution_count": 31
        }
      ]
    },
    {
      "cell_type": "code",
      "source": [
        "# Plot the data\n",
        "plt.plot(x[0:m//2,0], x[0:m//2,1], 'x')\n",
        "plt.plot(x[m//2:m,0], x[m//2:m,1], 'ro')\n",
        "\n",
        "# create a meshgrid of the input data\n",
        "xx, yy = np.meshgrid(np.linspace(x[:, 0].min(), x[:, 0].max(), 100),\n",
        "                     np.linspace(x[:, 1].min(), x[:, 1].max(), 100))\n",
        "\n",
        "xy = np.vstack([xx.ravel(), yy.ravel()])\n",
        "\n",
        "# calculate the decision boundary values\n",
        "z = (xy.T @ w + b0).reshape(xx.shape)\n",
        "\n",
        "# plot the contours of the margins and the decision boundary\n",
        "plt.contour(xx, yy, z, colors=['yellow', 'black', 'yellow'], levels=[-1, 0, 1], alpha=1.0, linestyles=['dashed', 'solid', 'dashed'])\n",
        "\n",
        "# Highlight the support vectors\n",
        "for ind in nz_ind:\n",
        "  plt.scatter(x[ind,0], x[ind,1], s=100, marker='o', facecolor='none', color='green')\n",
        "\n",
        "plt.title(\"Decision Boundaries Using Linear SVM\")\n",
        "plt.show()"
      ],
      "metadata": {
        "colab": {
          "base_uri": "https://localhost:8080/",
          "height": 452
        },
        "id": "3k0wcB_hCpYV",
        "outputId": "68f2052a-db95-4d77-e90e-f7c72efc48ed"
      },
      "execution_count": null,
      "outputs": [
        {
          "output_type": "display_data",
          "data": {
            "text/plain": [
              "<Figure size 640x480 with 1 Axes>"
            ],
            "image/png": "[encoded data removed]"
          },
          "metadata": {}
        }
      ]
    },
    {
      "cell_type": "markdown",
      "source": [
        "2. Implement a kernel-based support vector machine to separate and classify the two nonlinearly separable sets given in the data file SVM_data_nonlinear.mat available on Canvas.Find and show the classifying line. How many support vectors do you have? Mark your support vectors."
      ],
      "metadata": {
        "id": "G3Bs5iRawsLq"
      }
    },
    {
      "cell_type": "code",
      "source": [
        "mat_dic_nl = scipy.io.loadmat('/content/gdrive/MyDrive/Dataset/Data Mining and Machine Learning/SVM_data_nonlinear.mat')"
      ],
      "metadata": {
        "id": "50ST4_zGwtul"
      },
      "execution_count": null,
      "outputs": []
    },
    {
      "cell_type": "code",
      "source": [
        "mat_dic_nl"
      ],
      "metadata": {
        "colab": {
          "base_uri": "https://localhost:8080/"
        },
        "id": "XIfwD-U-xNNH",
        "outputId": "18a31f4e-5c2c-4fab-968d-2b0962befd14"
      },
      "execution_count": null,
      "outputs": [
        {
          "output_type": "execute_result",
          "data": {
            "text/plain": [
              "{'__header__': b'MATLAB 5.0 MAT-file, Platform: PCWIN64, Created on: Wed Apr 26 10:54:41 2017',\n",
              " '__version__': '1.0',\n",
              " '__globals__': [],\n",
              " 'x': array([[ 1.62864443,  1.38013057],\n",
              "        [ 2.15646751,  1.43470599],\n",
              "        [ 0.33218064,  1.98529556],\n",
              "        [ 1.03939482,  0.9045091 ],\n",
              "        [ 1.23756005,  1.35033226],\n",
              "        [ 0.28684793,  1.06524807],\n",
              "        [ 0.180563  ,  1.42066978],\n",
              "        [ 2.43121751,  3.03515227],\n",
              "        [ 1.5112449 ,  0.89351714],\n",
              "        [ 0.85485418,  0.15263733],\n",
              "        [ 2.30572879,  1.96938312],\n",
              "        [ 1.73162601,  0.59643306],\n",
              "        [ 0.51024033,  1.53587964],\n",
              "        [ 2.8395857 ,  0.87246878],\n",
              "        [ 1.78950203,  2.03539795],\n",
              "        [-1.52108294,  2.55288352],\n",
              "        [-1.86197199,  1.79630952],\n",
              "        [-3.68413859, -0.05432468],\n",
              "        [-4.29193604,  2.13256073],\n",
              "        [-3.07292628,  3.5929407 ],\n",
              "        [-3.33059888,  3.01841179],\n",
              "        [-3.84362764,  0.4195975 ],\n",
              "        [-2.50223034,  1.92133808],\n",
              "        [-1.51150953,  1.31834314],\n",
              "        [-3.54647589,  0.97544694],\n",
              "        [-3.84675816,  0.76564652],\n",
              "        [-3.24633653,  2.28880702],\n",
              "        [-2.33697585,  1.570697  ],\n",
              "        [-3.85419737,  2.05580119],\n",
              "        [-4.20131482,  1.63212643],\n",
              "        [-0.46497337, -2.63127966],\n",
              "        [ 0.37096058, -4.32521113],\n",
              "        [ 0.72828293, -3.23163653],\n",
              "        [ 2.11216017, -0.94435161],\n",
              "        [-1.35729774, -2.11322399],\n",
              "        [-1.02261014, -1.62077638],\n",
              "        [ 1.0378342 , -1.05580027],\n",
              "        [-0.38979955, -4.12042669],\n",
              "        [-1.38126562, -2.64467892],\n",
              "        [ 0.31554263, -2.70430173],\n",
              "        [ 1.55324257, -3.01813722],\n",
              "        [ 0.70789388, -2.18208187],\n",
              "        [ 1.95738476, -0.47898676],\n",
              "        [ 0.50454235, -2.03843876],\n",
              "        [ 1.86452902, -0.77255201],\n",
              "        [-0.33981178, -2.6962048 ],\n",
              "        [-1.1397794 , -1.99247551],\n",
              "        [-0.21112348, -2.78289304],\n",
              "        [ 1.19024494, -1.41306144],\n",
              "        [-1.11620876, -2.25120737],\n",
              "        [ 0.63527413, -1.51986418],\n",
              "        [-0.60141213, -1.33184497],\n",
              "        [ 0.55118471, -2.0783212 ],\n",
              "        [-1.09984045, -1.11082738],\n",
              "        [ 0.08599059,  0.30928749],\n",
              "        [-2.00456332, -1.47536132],\n",
              "        [-0.49308792, -2.01178732],\n",
              "        [ 0.46204801, -1.08685918],\n",
              "        [-0.32100469, -1.94405932],\n",
              "        [ 1.23655565, -3.10706989]]),\n",
              " 'y': array([[-1],\n",
              "        [-1],\n",
              "        [-1],\n",
              "        [-1],\n",
              "        [-1],\n",
              "        [-1],\n",
              "        [-1],\n",
              "        [-1],\n",
              "        [-1],\n",
              "        [-1],\n",
              "        [-1],\n",
              "        [-1],\n",
              "        [-1],\n",
              "        [-1],\n",
              "        [-1],\n",
              "        [-1],\n",
              "        [-1],\n",
              "        [-1],\n",
              "        [-1],\n",
              "        [-1],\n",
              "        [-1],\n",
              "        [-1],\n",
              "        [-1],\n",
              "        [-1],\n",
              "        [-1],\n",
              "        [-1],\n",
              "        [-1],\n",
              "        [-1],\n",
              "        [-1],\n",
              "        [-1],\n",
              "        [ 1],\n",
              "        [ 1],\n",
              "        [ 1],\n",
              "        [ 1],\n",
              "        [ 1],\n",
              "        [ 1],\n",
              "        [ 1],\n",
              "        [ 1],\n",
              "        [ 1],\n",
              "        [ 1],\n",
              "        [ 1],\n",
              "        [ 1],\n",
              "        [ 1],\n",
              "        [ 1],\n",
              "        [ 1],\n",
              "        [ 1],\n",
              "        [ 1],\n",
              "        [ 1],\n",
              "        [ 1],\n",
              "        [ 1],\n",
              "        [ 1],\n",
              "        [ 1],\n",
              "        [ 1],\n",
              "        [ 1],\n",
              "        [ 1],\n",
              "        [ 1],\n",
              "        [ 1],\n",
              "        [ 1],\n",
              "        [ 1],\n",
              "        [ 1]], dtype=int16)}"
            ]
          },
          "metadata": {},
          "execution_count": 38
        }
      ]
    },
    {
      "cell_type": "code",
      "source": [
        "# Flips the input and the plot as per the solution given\n",
        "# x = mat_dic_nl['x']\n",
        "x = np.column_stack([mat_dic_nl['x'][:, 0], -mat_dic_nl['x'][:, 1]])\n",
        "y = mat_dic_nl['y']"
      ],
      "metadata": {
        "id": "ySuPoJs1xUZQ"
      },
      "execution_count": null,
      "outputs": []
    },
    {
      "cell_type": "code",
      "source": [
        "x.shape"
      ],
      "metadata": {
        "colab": {
          "base_uri": "https://localhost:8080/"
        },
        "id": "h249yFep5NlO",
        "outputId": "cfa8df79-1eaf-46a0-da53-3a69ed310359"
      },
      "execution_count": null,
      "outputs": [
        {
          "output_type": "execute_result",
          "data": {
            "text/plain": [
              "(60, 2)"
            ]
          },
          "metadata": {},
          "execution_count": 40
        }
      ]
    },
    {
      "cell_type": "code",
      "source": [
        "print(y[29],y[30])"
      ],
      "metadata": {
        "colab": {
          "base_uri": "https://localhost:8080/"
        },
        "id": "T1npXiZEE64M",
        "outputId": "889a5ddd-4af5-40af-df7a-0ff2e0cddc2e"
      },
      "execution_count": null,
      "outputs": [
        {
          "output_type": "stream",
          "name": "stdout",
          "text": [
            "[-1] [1]\n"
          ]
        }
      ]
    },
    {
      "cell_type": "code",
      "source": [
        "m, n = x.shape"
      ],
      "metadata": {
        "id": "d-Q4M6YxExzo"
      },
      "execution_count": null,
      "outputs": []
    },
    {
      "cell_type": "code",
      "source": [
        "# Plot the data\n",
        "plt.plot(x[0:m//2,0], x[0:m//2,1], 'x')\n",
        "plt.plot(x[m//2:m,0], x[m//2:m,1], 'ro')\n",
        "plt.show()"
      ],
      "metadata": {
        "colab": {
          "base_uri": "https://localhost:8080/",
          "height": 430
        },
        "id": "9sCDMZ-kxajE",
        "outputId": "a3730a91-8a63-4c17-cd38-918279b7fc36"
      },
      "execution_count": null,
      "outputs": [
        {
          "output_type": "display_data",
          "data": {
            "text/plain": [
              "<Figure size 640x480 with 1 Axes>"
            ],
            "image/png": "[encoded data removed]"
          },
          "metadata": {}
        }
      ]
    },
    {
      "cell_type": "code",
      "source": [
        "def kernel(x,x_prime):\n",
        "  return (1 + x.T @ x_prime)**3"
      ],
      "metadata": {
        "id": "c6YohGZwFO1V"
      },
      "execution_count": null,
      "outputs": []
    },
    {
      "cell_type": "code",
      "source": [
        "Q = np.zeros((m,m))"
      ],
      "metadata": {
        "id": "tscHPtOzEta_"
      },
      "execution_count": null,
      "outputs": []
    },
    {
      "cell_type": "code",
      "source": [
        "for i in range(m):\n",
        "  for j in range(m):\n",
        "    # Q[i,j] = np.dot(y[i], y[j]) * kernel(x[i], x[j])\n",
        "    # Q[i,j] = y[i].reshape(1,1) * y[j].reshape(1,1) * (x[i].reshape(n,1).T @ x[j].reshape(n,1))\n",
        "    Q[i,j] = y.reshape(60,)[i] * y.reshape(60,)[j] * (kernel(x[i], x[j]))"
      ],
      "metadata": {
        "id": "FAtj227KFONL"
      },
      "execution_count": null,
      "outputs": []
    },
    {
      "cell_type": "code",
      "source": [
        "Q"
      ],
      "metadata": {
        "colab": {
          "base_uri": "https://localhost:8080/"
        },
        "id": "JV7cu2T-F9DG",
        "outputId": "49aa99cd-b0b3-4dca-f16f-60254c8ba8d3"
      },
      "execution_count": null,
      "outputs": [
        {
          "output_type": "execute_result",
          "data": {
            "text/plain": [
              "array([[ 1.71624063e+02,  2.73637586e+02,  7.84561384e+01, ...,\n",
              "        -1.60992825e-02,  1.07332879e+01,  2.06902941e+00],\n",
              "       [ 2.73637586e+02,  4.58088173e+02,  9.51093180e+01, ...,\n",
              "        -8.34925047e-02,  1.52786486e+01,  4.95175908e-01],\n",
              "       [ 7.84561384e+01,  9.51093180e+01,  1.28920979e+02, ...,\n",
              "         1.01281426e+00,  2.60966898e+01,  1.07693385e+02],\n",
              "       ...,\n",
              "       [-1.60992825e-02, -8.34925047e-02,  1.01281426e+00, ...,\n",
              "         1.37334998e+01,  2.60554115e+01,  1.21162126e+02],\n",
              "       [ 1.07332879e+01,  1.52786486e+01,  2.60966898e+01, ...,\n",
              "         2.60554115e+01,  1.16386582e+02,  2.93203303e+02],\n",
              "       [ 2.06902941e+00,  4.95175908e-01,  1.07693385e+02, ...,\n",
              "         1.21162126e+02,  2.93203303e+02,  1.80824690e+03]])"
            ]
          },
          "metadata": {},
          "execution_count": 47
        }
      ]
    },
    {
      "cell_type": "code",
      "source": [
        "alpha = solve_qp(P=Q, q=-np.ones(m), A=y.T, b=np.zeros(1), lb=np.zeros(m), solver='scs')"
      ],
      "metadata": {
        "id": "13IZiYs6GFwv"
      },
      "execution_count": null,
      "outputs": []
    },
    {
      "cell_type": "code",
      "source": [
        "alpha"
      ],
      "metadata": {
        "id": "rfKjEtt2X4GV",
        "colab": {
          "base_uri": "https://localhost:8080/"
        },
        "outputId": "dfc360ef-c068-4220-e506-706727fef8d5"
      },
      "execution_count": null,
      "outputs": [
        {
          "output_type": "execute_result",
          "data": {
            "text/plain": [
              "array([-5.46853652e-06, -2.72695054e-06,  2.57690834e-06, -1.27431445e-05,\n",
              "       -7.66101262e-06,  2.17182702e-01,  2.13924060e-06,  2.64730033e-09,\n",
              "       -9.03168807e-06,  1.05143567e+00, -1.37383769e-06, -5.57768308e-06,\n",
              "       -2.47986312e-06, -7.15150769e-07, -1.74537174e-06,  1.96539683e-06,\n",
              "        6.10809873e-08, -1.77175546e-06, -5.89537690e-07,  2.84491197e-07,\n",
              "       -5.84380924e-08, -1.52797381e-06, -7.15376317e-07,  6.26988431e-03,\n",
              "       -1.60143614e-06, -1.42418390e-06, -5.40757661e-07, -1.35397592e-06,\n",
              "       -7.04966628e-07, -8.32823585e-07,  1.56747650e-05,  3.76233453e-06,\n",
              "        7.75386907e-06,  3.53334529e-07,  1.41494590e-05,  2.88987801e-05,\n",
              "        2.43740480e-05,  4.44200668e-06,  9.45968622e-06,  1.44794483e-05,\n",
              "        5.21072491e-06,  1.96764841e-05,  1.31516872e-01,  2.61903121e-05,\n",
              "        1.07993556e-06,  1.51157827e-05,  1.90578528e-05,  1.41006904e-05,\n",
              "        1.73537022e-05,  1.57384334e-05,  3.39151141e-05,  4.93466689e-05,\n",
              "        2.44726418e-05,  3.54626216e-05,  1.14279499e+00,  9.06954595e-06,\n",
              "        2.99340785e-05,  4.44594104e-05,  3.29428000e-05,  6.35615923e-06])"
            ]
          },
          "metadata": {},
          "execution_count": 71
        }
      ]
    },
    {
      "cell_type": "code",
      "source": [
        "alpha_appx = alpha.round(2)\n",
        "alpha_appx"
      ],
      "metadata": {
        "colab": {
          "base_uri": "https://localhost:8080/"
        },
        "id": "TS9gEciTGMke",
        "outputId": "945c4d49-96ed-494a-fad6-3411f55c0703"
      },
      "execution_count": null,
      "outputs": [
        {
          "output_type": "execute_result",
          "data": {
            "text/plain": [
              "array([-0.  , -0.  ,  0.  , -0.  , -0.  ,  0.22,  0.  ,  0.  , -0.  ,\n",
              "        1.05, -0.  , -0.  , -0.  , -0.  , -0.  ,  0.  ,  0.  , -0.  ,\n",
              "       -0.  ,  0.  , -0.  , -0.  , -0.  ,  0.01, -0.  , -0.  , -0.  ,\n",
              "       -0.  , -0.  , -0.  ,  0.  ,  0.  ,  0.  ,  0.  ,  0.  ,  0.  ,\n",
              "        0.  ,  0.  ,  0.  ,  0.  ,  0.  ,  0.  ,  0.13,  0.  ,  0.  ,\n",
              "        0.  ,  0.  ,  0.  ,  0.  ,  0.  ,  0.  ,  0.  ,  0.  ,  0.  ,\n",
              "        1.14,  0.  ,  0.  ,  0.  ,  0.  ,  0.  ])"
            ]
          },
          "metadata": {},
          "execution_count": 72
        }
      ]
    },
    {
      "cell_type": "code",
      "source": [
        "# nz_ind = np.nonzero(alpha_appx)[0]\n",
        "nz_ind = [i for i, alpha_appx in enumerate(alpha_appx) if alpha_appx > 0]\n",
        "# nz_ind = [i for i, alpha in enumerate(alpha) if alpha > 0]\n",
        "nz_ind"
      ],
      "metadata": {
        "colab": {
          "base_uri": "https://localhost:8080/"
        },
        "id": "VaETB2O0MqYS",
        "outputId": "d829a4cf-4cde-4194-b2df-7cb5a1653b50"
      },
      "execution_count": null,
      "outputs": [
        {
          "output_type": "execute_result",
          "data": {
            "text/plain": [
              "[5, 9, 23, 42, 54]"
            ]
          },
          "metadata": {},
          "execution_count": 73
        }
      ]
    },
    {
      "cell_type": "code",
      "source": [
        "alpha[9]"
      ],
      "metadata": {
        "colab": {
          "base_uri": "https://localhost:8080/"
        },
        "id": "NxJAq5kgdKoe",
        "outputId": "0b5324c8-a816-4e4b-f776-af8121806c24"
      },
      "execution_count": null,
      "outputs": [
        {
          "output_type": "execute_result",
          "data": {
            "text/plain": [
              "1.0514356711113444"
            ]
          },
          "metadata": {},
          "execution_count": 74
        }
      ]
    },
    {
      "cell_type": "code",
      "source": [
        "def calc_bias(nz_ind):\n",
        "  b_list = []\n",
        "  for i in range(len(nz_ind)):\n",
        "    sum = 0\n",
        "    for ind in nz_ind:\n",
        "      sum += alpha[ind]*kernel(x[ind], x[nz_ind[i]])\n",
        "    b = y[nz_ind[i],0] - y[nz_ind[i],0] * sum\n",
        "    b_list.append(b)\n",
        "  return b_list"
      ],
      "metadata": {
        "id": "he8AuJeSFEPk"
      },
      "execution_count": null,
      "outputs": []
    },
    {
      "cell_type": "code",
      "source": [
        "b_list = calc_bias(nz_ind)\n",
        "b_list"
      ],
      "metadata": {
        "colab": {
          "base_uri": "https://localhost:8080/"
        },
        "id": "Mk5rL8fzGSlH",
        "outputId": "0f0873f5-5ef8-4ec6-d45b-b9a1ff6c7f45"
      },
      "execution_count": null,
      "outputs": [
        {
          "output_type": "execute_result",
          "data": {
            "text/plain": [
              "[7.338782943991159,\n",
              " 9.201079133776895,\n",
              " 1.5550527591426877,\n",
              " -35.886797903179605,\n",
              " -2.7057886101014486]"
            ]
          },
          "metadata": {},
          "execution_count": 76
        }
      ]
    },
    {
      "cell_type": "code",
      "source": [
        "b_list[len(b_list)//2]"
      ],
      "metadata": {
        "colab": {
          "base_uri": "https://localhost:8080/"
        },
        "id": "LLMNFWZS_6UV",
        "outputId": "7ceb0a5d-3efc-45ac-acb3-d9f02f2f6864"
      },
      "execution_count": null,
      "outputs": [
        {
          "output_type": "execute_result",
          "data": {
            "text/plain": [
              "1.5550527591426877"
            ]
          },
          "metadata": {},
          "execution_count": 77
        }
      ]
    },
    {
      "cell_type": "code",
      "source": [
        "# b0 = (b1+b2+b3+b4+b5)/5\n",
        "# b0 = np.mean(b_list)\n",
        "b0 = b_list[len(b_list)//2] # corr. lowest alpha value\n",
        "b0"
      ],
      "metadata": {
        "colab": {
          "base_uri": "https://localhost:8080/"
        },
        "id": "jOW9TAdZgTyT",
        "outputId": "8a6522bd-4884-43c7-f544-49294b997fd9"
      },
      "execution_count": null,
      "outputs": [
        {
          "output_type": "execute_result",
          "data": {
            "text/plain": [
              "1.5550527591426877"
            ]
          },
          "metadata": {},
          "execution_count": 78
        }
      ]
    },
    {
      "cell_type": "code",
      "source": [
        "def sgn(x):\n",
        "  if x<0:\n",
        "    return -1\n",
        "  elif x>0:\n",
        "    return +1\n",
        "  else:\n",
        "    return 0"
      ],
      "metadata": {
        "id": "O_HZrKVVggIZ"
      },
      "execution_count": null,
      "outputs": []
    },
    {
      "cell_type": "code",
      "source": [
        "# testing the first point\n",
        "sum = 0\n",
        "for ind in nz_ind:\n",
        "  sum += alpha[ind]*y[ind]*kernel(x[ind],x[0])\n",
        "q0 = sum + b0\n",
        "print(sgn(q0))"
      ],
      "metadata": {
        "colab": {
          "base_uri": "https://localhost:8080/"
        },
        "id": "kkTMC7ECivCm",
        "outputId": "6e7c9abd-a394-49d4-94d6-e3f58a946098"
      },
      "execution_count": null,
      "outputs": [
        {
          "output_type": "stream",
          "name": "stdout",
          "text": [
            "-1\n"
          ]
        }
      ]
    },
    {
      "cell_type": "code",
      "source": [
        "def nonlin_svm_classifier(nz_ind, b0, xt):\n",
        "  sum = 0\n",
        "  for ind in nz_ind:\n",
        "    sum += alpha[ind]*y[ind,0]*kernel(x[ind],xt)\n",
        "  return (sum + b0)"
      ],
      "metadata": {
        "id": "hIDrFAf8nznz"
      },
      "execution_count": null,
      "outputs": []
    },
    {
      "cell_type": "code",
      "source": [
        "def nonlin_sgn_svm_classifier(nz_ind, b0, xt):\n",
        "  sum = 0\n",
        "  for ind in nz_ind:\n",
        "    sum += alpha[ind]*y[ind,0]*kernel(x[ind],xt)\n",
        "  return (sgn(sum + b0))"
      ],
      "metadata": {
        "id": "4E8x1prlQhuQ"
      },
      "execution_count": null,
      "outputs": []
    },
    {
      "cell_type": "code",
      "source": [
        "nonlin_svm_classifier(nz_ind, b0, xt=x[0])"
      ],
      "metadata": {
        "colab": {
          "base_uri": "https://localhost:8080/"
        },
        "id": "OeOvwZW9op2r",
        "outputId": "73da42b6-56f9-42c8-9ae1-1f633eecd546"
      },
      "execution_count": null,
      "outputs": [
        {
          "output_type": "execute_result",
          "data": {
            "text/plain": [
              "-12.325853169408354"
            ]
          },
          "metadata": {},
          "execution_count": 83
        }
      ]
    },
    {
      "cell_type": "code",
      "source": [
        "nonlin_sgn_svm_classifier(nz_ind, b0, xt=x[0])"
      ],
      "metadata": {
        "colab": {
          "base_uri": "https://localhost:8080/"
        },
        "id": "IKd4cdrnQtC2",
        "outputId": "80d2027d-e7b7-4fc9-eecc-ee4ad885497a"
      },
      "execution_count": null,
      "outputs": [
        {
          "output_type": "execute_result",
          "data": {
            "text/plain": [
              "-1"
            ]
          },
          "metadata": {},
          "execution_count": 84
        }
      ]
    },
    {
      "cell_type": "code",
      "source": [
        "# Plot the data\n",
        "\n",
        "plt.figure(figsize=(10,6))\n",
        "\n",
        "plt.plot(x[0:m//2,0], x[0:m//2,1], 'x')\n",
        "plt.plot(x[m//2:m,0], x[m//2:m,1], 'ro')\n",
        "\n",
        "# create a meshgrid of the input data\n",
        "xx, yy = np.meshgrid(np.linspace(x[:, 0].min(), x[:, 0].max(), 1000),\n",
        "                     np.linspace(x[:, 1].min(), x[:, 1].max(), 1000))\n",
        "\n",
        "xy = np.vstack([xx.ravel(), yy.ravel()])\n",
        "\n",
        "cm = np.zeros(xy.T.shape[0])\n",
        "\n",
        "for i in range(xy.T.shape[0]):\n",
        "  cm[i] =  nonlin_svm_classifier(nz_ind, b0, xt=xy.T[i])\n",
        "\n",
        "plt.contour(xx, yy, cm.T.reshape((1000,1000)), levels = [0], colors = '#FFFDD0')\n",
        "plt.contourf(xx, yy, cm.T.reshape((1000,1000)), levels = 40, cmap = 'gray')\n",
        "plt.colorbar()\n",
        "\n",
        "# Highlight the support vectors\n",
        "for ind in nz_ind:\n",
        "  plt.scatter(x[ind,0], x[ind,1], s=100, marker='o', facecolor='none', color='green')\n",
        "\n",
        "plt.title(\"Filled Contour Plot Using Third Order Polynomial Kernel SVM with gray-scale\")\n",
        "plt.show()"
      ],
      "metadata": {
        "colab": {
          "base_uri": "https://localhost:8080/",
          "height": 545
        },
        "id": "0i_0_gbHYneS",
        "outputId": "b9c0e909-efcb-42d8-8d10-9dca8ecf288a"
      },
      "execution_count": null,
      "outputs": [
        {
          "output_type": "display_data",
          "data": {
            "text/plain": [
              "<Figure size 1000x600 with 2 Axes>"
            ],
            "image/png": "[encoded data removed]"
          },
          "metadata": {}
        }
      ]
    },
    {
      "cell_type": "code",
      "source": [
        "# Implementation with non-linear sgn classifier\n",
        "# Plot the data\n",
        "plt.figure(figsize=(10,6))\n",
        "\n",
        "plt.plot(x[0:m//2,0], x[0:m//2,1], 'x')\n",
        "plt.plot(x[m//2:m,0], x[m//2:m,1], 'ro')\n",
        "\n",
        "# create a meshgrid of the input data\n",
        "xx, yy = np.meshgrid(np.linspace(x[:, 0].min(), x[:, 0].max(), 1000),\n",
        "                     np.linspace(x[:, 1].min(), x[:, 1].max(), 1000))\n",
        "cm = np.zeros(xy.T.shape[0])\n",
        "\n",
        "for i in range(xy.T.shape[0]):\n",
        "  cm[i] =  nonlin_sgn_svm_classifier(nz_ind, b0, xt=xy.T[i])\n",
        "\n",
        "plt.contour(xx, yy, cm.T.reshape((1000,1000)), levels = [0], colors = '#FFFDD0')\n",
        "plt.contourf(xx, yy, cm.T.reshape((1000,1000)), colors = ['#87CEEB', '#FFD580'])\n",
        "\n",
        "# Highlight the support vectors\n",
        "for ind in nz_ind:\n",
        "  plt.scatter(x[ind,0], x[ind,1], s=100, marker='o', facecolor='none', color='green')\n",
        "\n",
        "plt.title(\"Decision Boundary Using Third Order Polynomial Kernel SVM\")\n",
        "plt.show()"
      ],
      "metadata": {
        "colab": {
          "base_uri": "https://localhost:8080/",
          "height": 545
        },
        "id": "2Hxk5ltDA2-4",
        "outputId": "b80915a9-df2f-4f70-b4f0-663ac53ff578"
      },
      "execution_count": null,
      "outputs": [
        {
          "output_type": "display_data",
          "data": {
            "text/plain": [
              "<Figure size 1000x600 with 1 Axes>"
            ],
            "image/png": "[encoded data removed]"
          },
          "metadata": {}
        }
      ]
    },
    {
      "cell_type": "code",
      "source": [
        "!apt-get install texlive texlive-xetex texlive-latex-extra pandoc\n",
        "!pip install pypandoc"
      ],
      "metadata": {
        "colab": {
          "base_uri": "https://localhost:8080/"
        },
        "id": "Dt1Hcd10__Ka",
        "outputId": "eb0da606-67f5-45c4-eb70-9067756ea704"
      },
      "execution_count": null,
      "outputs": [
        {
          "output_type": "stream",
          "name": "stdout",
          "text": [
            "Reading package lists... Done\n",
            "Building dependency tree... Done\n",
            "Reading state information... Done\n",
            "pandoc is already the newest version (2.9.2.1-3ubuntu2).\n",
            "texlive is already the newest version (2021.20220204-1).\n",
            "texlive-latex-extra is already the newest version (2021.20220204-1).\n",
            "texlive-xetex is already the newest version (2021.20220204-1).\n",
            "0 upgraded, 0 newly installed, 0 to remove and 45 not upgraded.\n",
            "Requirement already satisfied: pypandoc in /usr/local/lib/python3.10/dist-packages (1.13)\n"
          ]
        }
      ]
    },
    {
      "cell_type": "code",
      "source": [
        "!jupyter nbconvert --to pdf \"/content/gdrive/MyDrive/Colab Notebooks/MiniProject5.ipynb\""
      ],
      "metadata": {
        "colab": {
          "base_uri": "https://localhost:8080/"
        },
        "id": "4Zf5mox9AE8z",
        "outputId": "03ee6938-8eb1-4064-d175-89ff4c139305"
      },
      "execution_count": null,
      "outputs": [
        {
          "output_type": "stream",
          "name": "stdout",
          "text": [
            "[NbConvertApp] Converting notebook /content/gdrive/MyDrive/Colab Notebooks/MiniProject5.ipynb to pdf\n",
            "[NbConvertApp] Support files will be in MiniProject5_files/\n",
            "[NbConvertApp] Making directory ./MiniProject5_files\n",
            "[NbConvertApp] Making directory ./MiniProject5_files\n",
            "[NbConvertApp] Making directory ./MiniProject5_files\n",
            "[NbConvertApp] Making directory ./MiniProject5_files\n",
            "[NbConvertApp] Making directory ./MiniProject5_files\n",
            "[NbConvertApp] Writing 83471 bytes to notebook.tex\n",
            "[NbConvertApp] Building PDF\n",
            "[NbConvertApp] Running xelatex 3 times: ['xelatex', 'notebook.tex', '-quiet']\n",
            "[NbConvertApp] Running bibtex 1 time: ['bibtex', 'notebook']\n",
            "[NbConvertApp] WARNING | bibtex had problems, most likely because there were no citations\n",
            "[NbConvertApp] PDF successfully created\n",
            "[NbConvertApp] Writing 196151 bytes to /content/gdrive/MyDrive/Colab Notebooks/MiniProject5.pdf\n"
          ]
        }
      ]
    }
  ]
}